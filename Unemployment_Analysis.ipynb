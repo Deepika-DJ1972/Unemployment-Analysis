{
 "cells": [
  {
   "cell_type": "markdown",
   "id": "7d7b328c-05b1-46b3-8b9f-31502a31dd79",
   "metadata": {},
   "source": [
    "# <b>UnEmployment Analysis</b>"
   ]
  },
  {
   "cell_type": "markdown",
   "id": "175902bd-e476-4148-b94e-7686acbcb0cb",
   "metadata": {},
   "source": [
    "##### #Importing required Libraries"
   ]
  },
  {
   "cell_type": "code",
   "execution_count": 117,
   "id": "2f44919f-7a4a-4859-b863-64728db059f5",
   "metadata": {},
   "outputs": [],
   "source": [
    "\n",
    "\n",
    "# Data manipulation libraries\n",
    "import pandas as pd\n",
    "import numpy as np\n",
    "from scipy import stats\n",
    "\n",
    "# Visualization libraries\n",
    "import matplotlib.pyplot as plt\n",
    "import seaborn as sns\n"
   ]
  },
  {
   "cell_type": "markdown",
   "id": "3e0d62af-0548-4fd3-87ff-7e668156cd55",
   "metadata": {},
   "source": [
    "##### Data Exploration"
   ]
  },
  {
   "cell_type": "code",
   "execution_count": 119,
   "id": "76bfdf8d-dad0-4d39-a14d-da66c800a854",
   "metadata": {},
   "outputs": [],
   "source": [
    "#load the data set\n",
    "df1=pd.read_csv('Unemployment in India.csv')\n",
    "df2=pd.read_csv('Unemployment_Rate_upto_11_2020.csv')"
   ]
  },
  {
   "cell_type": "code",
   "execution_count": 120,
   "id": "0619c1f3-bc4f-41f3-b8ec-21efcdf6215d",
   "metadata": {},
   "outputs": [
    {
     "data": {
      "text/html": [
       "<div>\n",
       "<style scoped>\n",
       "    .dataframe tbody tr th:only-of-type {\n",
       "        vertical-align: middle;\n",
       "    }\n",
       "\n",
       "    .dataframe tbody tr th {\n",
       "        vertical-align: top;\n",
       "    }\n",
       "\n",
       "    .dataframe thead th {\n",
       "        text-align: right;\n",
       "    }\n",
       "</style>\n",
       "<table border=\"1\" class=\"dataframe\">\n",
       "  <thead>\n",
       "    <tr style=\"text-align: right;\">\n",
       "      <th></th>\n",
       "      <th>Region</th>\n",
       "      <th>Date</th>\n",
       "      <th>Frequency</th>\n",
       "      <th>Estimated Unemployment Rate (%)</th>\n",
       "      <th>Estimated Employed</th>\n",
       "      <th>Estimated Labour Participation Rate (%)</th>\n",
       "      <th>Area</th>\n",
       "    </tr>\n",
       "  </thead>\n",
       "  <tbody>\n",
       "    <tr>\n",
       "      <th>0</th>\n",
       "      <td>Andhra Pradesh</td>\n",
       "      <td>31-05-2019</td>\n",
       "      <td>Monthly</td>\n",
       "      <td>3.65</td>\n",
       "      <td>11999139.0</td>\n",
       "      <td>43.24</td>\n",
       "      <td>Rural</td>\n",
       "    </tr>\n",
       "    <tr>\n",
       "      <th>1</th>\n",
       "      <td>Andhra Pradesh</td>\n",
       "      <td>30-06-2019</td>\n",
       "      <td>Monthly</td>\n",
       "      <td>3.05</td>\n",
       "      <td>11755881.0</td>\n",
       "      <td>42.05</td>\n",
       "      <td>Rural</td>\n",
       "    </tr>\n",
       "    <tr>\n",
       "      <th>2</th>\n",
       "      <td>Andhra Pradesh</td>\n",
       "      <td>31-07-2019</td>\n",
       "      <td>Monthly</td>\n",
       "      <td>3.75</td>\n",
       "      <td>12086707.0</td>\n",
       "      <td>43.50</td>\n",
       "      <td>Rural</td>\n",
       "    </tr>\n",
       "    <tr>\n",
       "      <th>3</th>\n",
       "      <td>Andhra Pradesh</td>\n",
       "      <td>31-08-2019</td>\n",
       "      <td>Monthly</td>\n",
       "      <td>3.32</td>\n",
       "      <td>12285693.0</td>\n",
       "      <td>43.97</td>\n",
       "      <td>Rural</td>\n",
       "    </tr>\n",
       "    <tr>\n",
       "      <th>4</th>\n",
       "      <td>Andhra Pradesh</td>\n",
       "      <td>30-09-2019</td>\n",
       "      <td>Monthly</td>\n",
       "      <td>5.17</td>\n",
       "      <td>12256762.0</td>\n",
       "      <td>44.68</td>\n",
       "      <td>Rural</td>\n",
       "    </tr>\n",
       "  </tbody>\n",
       "</table>\n",
       "</div>"
      ],
      "text/plain": [
       "           Region         Date  Frequency   Estimated Unemployment Rate (%)  \\\n",
       "0  Andhra Pradesh   31-05-2019    Monthly                              3.65   \n",
       "1  Andhra Pradesh   30-06-2019    Monthly                              3.05   \n",
       "2  Andhra Pradesh   31-07-2019    Monthly                              3.75   \n",
       "3  Andhra Pradesh   31-08-2019    Monthly                              3.32   \n",
       "4  Andhra Pradesh   30-09-2019    Monthly                              5.17   \n",
       "\n",
       "    Estimated Employed   Estimated Labour Participation Rate (%)   Area  \n",
       "0           11999139.0                                     43.24  Rural  \n",
       "1           11755881.0                                     42.05  Rural  \n",
       "2           12086707.0                                     43.50  Rural  \n",
       "3           12285693.0                                     43.97  Rural  \n",
       "4           12256762.0                                     44.68  Rural  "
      ]
     },
     "execution_count": 120,
     "metadata": {},
     "output_type": "execute_result"
    }
   ],
   "source": [
    "df1.head()"
   ]
  },
  {
   "cell_type": "code",
   "execution_count": 121,
   "id": "a6d1361a-be55-4f5a-bc69-736d6209546b",
   "metadata": {},
   "outputs": [
    {
     "data": {
      "text/html": [
       "<div>\n",
       "<style scoped>\n",
       "    .dataframe tbody tr th:only-of-type {\n",
       "        vertical-align: middle;\n",
       "    }\n",
       "\n",
       "    .dataframe tbody tr th {\n",
       "        vertical-align: top;\n",
       "    }\n",
       "\n",
       "    .dataframe thead th {\n",
       "        text-align: right;\n",
       "    }\n",
       "</style>\n",
       "<table border=\"1\" class=\"dataframe\">\n",
       "  <thead>\n",
       "    <tr style=\"text-align: right;\">\n",
       "      <th></th>\n",
       "      <th>Region</th>\n",
       "      <th>Date</th>\n",
       "      <th>Frequency</th>\n",
       "      <th>Estimated Unemployment Rate (%)</th>\n",
       "      <th>Estimated Employed</th>\n",
       "      <th>Estimated Labour Participation Rate (%)</th>\n",
       "      <th>Region.1</th>\n",
       "      <th>longitude</th>\n",
       "      <th>latitude</th>\n",
       "    </tr>\n",
       "  </thead>\n",
       "  <tbody>\n",
       "    <tr>\n",
       "      <th>0</th>\n",
       "      <td>Andhra Pradesh</td>\n",
       "      <td>31-01-2020</td>\n",
       "      <td>M</td>\n",
       "      <td>5.48</td>\n",
       "      <td>16635535</td>\n",
       "      <td>41.02</td>\n",
       "      <td>South</td>\n",
       "      <td>15.9129</td>\n",
       "      <td>79.74</td>\n",
       "    </tr>\n",
       "    <tr>\n",
       "      <th>1</th>\n",
       "      <td>Andhra Pradesh</td>\n",
       "      <td>29-02-2020</td>\n",
       "      <td>M</td>\n",
       "      <td>5.83</td>\n",
       "      <td>16545652</td>\n",
       "      <td>40.90</td>\n",
       "      <td>South</td>\n",
       "      <td>15.9129</td>\n",
       "      <td>79.74</td>\n",
       "    </tr>\n",
       "    <tr>\n",
       "      <th>2</th>\n",
       "      <td>Andhra Pradesh</td>\n",
       "      <td>31-03-2020</td>\n",
       "      <td>M</td>\n",
       "      <td>5.79</td>\n",
       "      <td>15881197</td>\n",
       "      <td>39.18</td>\n",
       "      <td>South</td>\n",
       "      <td>15.9129</td>\n",
       "      <td>79.74</td>\n",
       "    </tr>\n",
       "    <tr>\n",
       "      <th>3</th>\n",
       "      <td>Andhra Pradesh</td>\n",
       "      <td>30-04-2020</td>\n",
       "      <td>M</td>\n",
       "      <td>20.51</td>\n",
       "      <td>11336911</td>\n",
       "      <td>33.10</td>\n",
       "      <td>South</td>\n",
       "      <td>15.9129</td>\n",
       "      <td>79.74</td>\n",
       "    </tr>\n",
       "    <tr>\n",
       "      <th>4</th>\n",
       "      <td>Andhra Pradesh</td>\n",
       "      <td>31-05-2020</td>\n",
       "      <td>M</td>\n",
       "      <td>17.43</td>\n",
       "      <td>12988845</td>\n",
       "      <td>36.46</td>\n",
       "      <td>South</td>\n",
       "      <td>15.9129</td>\n",
       "      <td>79.74</td>\n",
       "    </tr>\n",
       "  </tbody>\n",
       "</table>\n",
       "</div>"
      ],
      "text/plain": [
       "           Region         Date  Frequency   Estimated Unemployment Rate (%)  \\\n",
       "0  Andhra Pradesh   31-01-2020          M                              5.48   \n",
       "1  Andhra Pradesh   29-02-2020          M                              5.83   \n",
       "2  Andhra Pradesh   31-03-2020          M                              5.79   \n",
       "3  Andhra Pradesh   30-04-2020          M                             20.51   \n",
       "4  Andhra Pradesh   31-05-2020          M                             17.43   \n",
       "\n",
       "    Estimated Employed   Estimated Labour Participation Rate (%) Region.1  \\\n",
       "0             16635535                                     41.02    South   \n",
       "1             16545652                                     40.90    South   \n",
       "2             15881197                                     39.18    South   \n",
       "3             11336911                                     33.10    South   \n",
       "4             12988845                                     36.46    South   \n",
       "\n",
       "   longitude  latitude  \n",
       "0    15.9129     79.74  \n",
       "1    15.9129     79.74  \n",
       "2    15.9129     79.74  \n",
       "3    15.9129     79.74  \n",
       "4    15.9129     79.74  "
      ]
     },
     "execution_count": 121,
     "metadata": {},
     "output_type": "execute_result"
    }
   ],
   "source": [
    "df2.head()"
   ]
  },
  {
   "cell_type": "code",
   "execution_count": 122,
   "id": "8ec0b970-2abb-4dc0-a07f-ef767bf818d0",
   "metadata": {},
   "outputs": [
    {
     "name": "stdout",
     "output_type": "stream",
     "text": [
      "<class 'pandas.core.frame.DataFrame'>\n",
      "RangeIndex: 768 entries, 0 to 767\n",
      "Data columns (total 7 columns):\n",
      " #   Column                                    Non-Null Count  Dtype  \n",
      "---  ------                                    --------------  -----  \n",
      " 0   Region                                    740 non-null    object \n",
      " 1    Date                                     740 non-null    object \n",
      " 2    Frequency                                740 non-null    object \n",
      " 3    Estimated Unemployment Rate (%)          740 non-null    float64\n",
      " 4    Estimated Employed                       740 non-null    float64\n",
      " 5    Estimated Labour Participation Rate (%)  740 non-null    float64\n",
      " 6   Area                                      740 non-null    object \n",
      "dtypes: float64(3), object(4)\n",
      "memory usage: 42.1+ KB\n",
      "None \n",
      "\n",
      "\n",
      "<class 'pandas.core.frame.DataFrame'>\n",
      "RangeIndex: 267 entries, 0 to 266\n",
      "Data columns (total 9 columns):\n",
      " #   Column                                    Non-Null Count  Dtype  \n",
      "---  ------                                    --------------  -----  \n",
      " 0   Region                                    267 non-null    object \n",
      " 1    Date                                     267 non-null    object \n",
      " 2    Frequency                                267 non-null    object \n",
      " 3    Estimated Unemployment Rate (%)          267 non-null    float64\n",
      " 4    Estimated Employed                       267 non-null    int64  \n",
      " 5    Estimated Labour Participation Rate (%)  267 non-null    float64\n",
      " 6   Region.1                                  267 non-null    object \n",
      " 7   longitude                                 267 non-null    float64\n",
      " 8   latitude                                  267 non-null    float64\n",
      "dtypes: float64(4), int64(1), object(4)\n",
      "memory usage: 18.9+ KB\n",
      "None\n"
     ]
    }
   ],
   "source": [
    "print(f'{df1.info()} \\n\\n')\n",
    "print(df2.info())"
   ]
  },
  {
   "cell_type": "markdown",
   "id": "8834fabb-1baf-4cda-be95-119c0aa5fbd7",
   "metadata": {},
   "source": [
    "##### Dropping columns"
   ]
  },
  {
   "cell_type": "code",
   "execution_count": 124,
   "id": "4df763ea-a893-4b96-acbe-0c67372ab10c",
   "metadata": {},
   "outputs": [
    {
     "data": {
      "text/html": [
       "<div>\n",
       "<style scoped>\n",
       "    .dataframe tbody tr th:only-of-type {\n",
       "        vertical-align: middle;\n",
       "    }\n",
       "\n",
       "    .dataframe tbody tr th {\n",
       "        vertical-align: top;\n",
       "    }\n",
       "\n",
       "    .dataframe thead th {\n",
       "        text-align: right;\n",
       "    }\n",
       "</style>\n",
       "<table border=\"1\" class=\"dataframe\">\n",
       "  <thead>\n",
       "    <tr style=\"text-align: right;\">\n",
       "      <th></th>\n",
       "      <th>Region</th>\n",
       "      <th>Date</th>\n",
       "      <th>Frequency</th>\n",
       "      <th>Estimated Unemployment Rate (%)</th>\n",
       "      <th>Estimated Employed</th>\n",
       "      <th>Estimated Labour Participation Rate (%)</th>\n",
       "      <th>Region.1</th>\n",
       "    </tr>\n",
       "  </thead>\n",
       "  <tbody>\n",
       "    <tr>\n",
       "      <th>0</th>\n",
       "      <td>Andhra Pradesh</td>\n",
       "      <td>31-01-2020</td>\n",
       "      <td>M</td>\n",
       "      <td>5.48</td>\n",
       "      <td>16635535</td>\n",
       "      <td>41.02</td>\n",
       "      <td>South</td>\n",
       "    </tr>\n",
       "    <tr>\n",
       "      <th>1</th>\n",
       "      <td>Andhra Pradesh</td>\n",
       "      <td>29-02-2020</td>\n",
       "      <td>M</td>\n",
       "      <td>5.83</td>\n",
       "      <td>16545652</td>\n",
       "      <td>40.90</td>\n",
       "      <td>South</td>\n",
       "    </tr>\n",
       "    <tr>\n",
       "      <th>2</th>\n",
       "      <td>Andhra Pradesh</td>\n",
       "      <td>31-03-2020</td>\n",
       "      <td>M</td>\n",
       "      <td>5.79</td>\n",
       "      <td>15881197</td>\n",
       "      <td>39.18</td>\n",
       "      <td>South</td>\n",
       "    </tr>\n",
       "    <tr>\n",
       "      <th>3</th>\n",
       "      <td>Andhra Pradesh</td>\n",
       "      <td>30-04-2020</td>\n",
       "      <td>M</td>\n",
       "      <td>20.51</td>\n",
       "      <td>11336911</td>\n",
       "      <td>33.10</td>\n",
       "      <td>South</td>\n",
       "    </tr>\n",
       "    <tr>\n",
       "      <th>4</th>\n",
       "      <td>Andhra Pradesh</td>\n",
       "      <td>31-05-2020</td>\n",
       "      <td>M</td>\n",
       "      <td>17.43</td>\n",
       "      <td>12988845</td>\n",
       "      <td>36.46</td>\n",
       "      <td>South</td>\n",
       "    </tr>\n",
       "  </tbody>\n",
       "</table>\n",
       "</div>"
      ],
      "text/plain": [
       "           Region         Date  Frequency   Estimated Unemployment Rate (%)  \\\n",
       "0  Andhra Pradesh   31-01-2020          M                              5.48   \n",
       "1  Andhra Pradesh   29-02-2020          M                              5.83   \n",
       "2  Andhra Pradesh   31-03-2020          M                              5.79   \n",
       "3  Andhra Pradesh   30-04-2020          M                             20.51   \n",
       "4  Andhra Pradesh   31-05-2020          M                             17.43   \n",
       "\n",
       "    Estimated Employed   Estimated Labour Participation Rate (%) Region.1  \n",
       "0             16635535                                     41.02    South  \n",
       "1             16545652                                     40.90    South  \n",
       "2             15881197                                     39.18    South  \n",
       "3             11336911                                     33.10    South  \n",
       "4             12988845                                     36.46    South  "
      ]
     },
     "execution_count": 124,
     "metadata": {},
     "output_type": "execute_result"
    }
   ],
   "source": [
    "\n",
    "df2.drop(['longitude','latitude'], axis=1, inplace=True)\n",
    "df2.head()"
   ]
  },
  {
   "cell_type": "markdown",
   "id": "d62fba9b-cad3-4c05-9ba4-0506c5576901",
   "metadata": {},
   "source": [
    "##### Renaming Columns"
   ]
  },
  {
   "cell_type": "code",
   "execution_count": 126,
   "id": "1fbed77b-860e-4f5a-954b-8d7009837242",
   "metadata": {},
   "outputs": [
    {
     "name": "stdout",
     "output_type": "stream",
     "text": [
      "Index(['States', 'Date', 'Frequency', 'Unemployment Rate', 'Employed',\n",
      "       'Labour Participation Rate', 'Area'],\n",
      "      dtype='object')\n",
      "Index(['States', 'Date', 'Frequency', 'Unemployment Rate', 'Employed',\n",
      "       'Labour Participation Rate', 'Region'],\n",
      "      dtype='object')\n"
     ]
    }
   ],
   "source": [
    "#striping the unwanted whitespace in column names\n",
    "df1.columns = df1.columns.str.strip()\n",
    "df2.columns = df2.columns.str.strip()\n",
    "\n",
    "df1.rename(columns={\"Region\":\"States\",\"Estimated Unemployment Rate (%)\":\"Unemployment Rate\",\"Estimated Employed\":\"Employed\", \n",
    "                   \"Estimated Labour Participation Rate (%)\":\"Labour Participation Rate\"}, inplace=True)\n",
    "\n",
    "df2.rename(columns={\"Region\":\"States\",\"Estimated Unemployment Rate (%)\":\"Unemployment Rate\",\"Estimated Employed\":\"Employed\", \n",
    "                   \"Estimated Labour Participation Rate (%)\":\"Labour Participation Rate\",\"Region.1\":\"Region\"}, inplace=True)\n",
    "\n",
    "print(df1.columns)\n",
    "print(df2.columns)\n"
   ]
  },
  {
   "cell_type": "markdown",
   "id": "9ed8163c-9cb2-4a56-8f49-a17a139ba9ba",
   "metadata": {},
   "source": [
    "## Data Cleaning"
   ]
  },
  {
   "cell_type": "markdown",
   "id": "5b99e820-4f2e-4a21-9169-5990680caeb5",
   "metadata": {},
   "source": [
    "##### Handling Missing Values"
   ]
  },
  {
   "cell_type": "code",
   "execution_count": 129,
   "id": "ee0565f3-3ab4-4e2d-92c4-475d55cd759e",
   "metadata": {},
   "outputs": [
    {
     "name": "stdout",
     "output_type": "stream",
     "text": [
      "Missing values in DataSet1 and its Percentage\n",
      "States                       28\n",
      "Date                         28\n",
      "Frequency                    28\n",
      "Unemployment Rate            28\n",
      "Employed                     28\n",
      "Labour Participation Rate    28\n",
      "Area                         28\n",
      "dtype: int64 \n",
      "\n",
      "States                       4%\n",
      "Date                         4%\n",
      "Frequency                    4%\n",
      "Unemployment Rate            4%\n",
      "Employed                     4%\n",
      "Labour Participation Rate    4%\n",
      "Area                         4%\n",
      "dtype: object\n"
     ]
    }
   ],
   "source": [
    "print(\"Missing values in DataSet1 and its Percentage\")\n",
    "print(f'{df1.isnull().sum()} \\n')\n",
    "df1_mv=(df1.isnull().sum()/len(df1))*100\n",
    "print(df1_mv.apply(lambda x: f'{x:.0f}%'))"
   ]
  },
  {
   "cell_type": "code",
   "execution_count": 130,
   "id": "0fdc1532-d1d5-4066-857f-4b2652981a9f",
   "metadata": {},
   "outputs": [
    {
     "name": "stdout",
     "output_type": "stream",
     "text": [
      "States                       0\n",
      "Date                         0\n",
      "Frequency                    0\n",
      "Unemployment Rate            0\n",
      "Employed                     0\n",
      "Labour Participation Rate    0\n",
      "Region                       0\n",
      "dtype: int64\n"
     ]
    }
   ],
   "source": [
    "print(df2.isnull().sum())"
   ]
  },
  {
   "cell_type": "markdown",
   "id": "8c82e957-bb3c-46d9-968a-c0fff37cea1d",
   "metadata": {},
   "source": [
    "##### Imputing missing values with Mean and Mode"
   ]
  },
  {
   "cell_type": "code",
   "execution_count": 132,
   "id": "80a15b79-0a04-4e90-bbf4-9ac2164596bc",
   "metadata": {},
   "outputs": [],
   "source": [
    "#since the missing value is less than 5% will impute values\n",
    "\n",
    "#Fill missing values for numerical columns with mean and median\n",
    "df1['Unemployment Rate'].fillna(df1['Unemployment Rate'].mean(), inplace=True)\n",
    "df1['Employed'].fillna(df1['Employed'].median(), inplace=True)\n",
    "df1['Labour Participation Rate'].fillna(df1['Labour Participation Rate'].mean(), inplace=True)\n",
    "\n",
    "#Fill missing values for categorical columns with mode\n",
    "df1['States'].fillna(df1['States'].mode()[0], inplace=True)\n",
    "df1['Date'].fillna(df1['Date'].mode()[0], inplace=True)\n",
    "df1['Frequency'].fillna(df1['Frequency'].mode()[0], inplace=True)\n",
    "df1['Area'].fillna(df1['Area'].mode()[0], inplace=True)\n"
   ]
  },
  {
   "cell_type": "code",
   "execution_count": 133,
   "id": "d6592d5d-877f-4f1b-8a18-09794b802e12",
   "metadata": {},
   "outputs": [
    {
     "name": "stdout",
     "output_type": "stream",
     "text": [
      "States                       0\n",
      "Date                         0\n",
      "Frequency                    0\n",
      "Unemployment Rate            0\n",
      "Employed                     0\n",
      "Labour Participation Rate    0\n",
      "Area                         0\n",
      "dtype: int64 \n",
      "\n"
     ]
    }
   ],
   "source": [
    "print(f'{df1.isnull().sum()} \\n')"
   ]
  },
  {
   "cell_type": "markdown",
   "id": "a88638ab-e015-4fe5-a502-a1337bb4d656",
   "metadata": {},
   "source": [
    "##### Dropping duplicate columns"
   ]
  },
  {
   "cell_type": "code",
   "execution_count": 135,
   "id": "00ad37a0-1d56-4573-99fc-3893294395a6",
   "metadata": {},
   "outputs": [
    {
     "name": "stdout",
     "output_type": "stream",
     "text": [
      "Number of rows in df1:768\n",
      "Number of rows in df2:267\n"
     ]
    }
   ],
   "source": [
    "print(f'Number of rows in df1:{df1.shape[0]}')\n",
    "print(f'Number of rows in df2:{df2.shape[0]}')"
   ]
  },
  {
   "cell_type": "code",
   "execution_count": 136,
   "id": "ccf1849f-16d0-40c1-8793-927c7d603f03",
   "metadata": {},
   "outputs": [
    {
     "name": "stdout",
     "output_type": "stream",
     "text": [
      "Number of duplicate rows in df1: 27\n",
      "Number of duplicate rows in df2: 0\n"
     ]
    }
   ],
   "source": [
    "print(f'Number of duplicate rows in df1: {df1.duplicated().sum()}')\n",
    "print(f'Number of duplicate rows in df2: {df2.duplicated().sum()}')"
   ]
  },
  {
   "cell_type": "code",
   "execution_count": 137,
   "id": "9c7630b9-f643-4749-ac7a-4c501e37b8a9",
   "metadata": {},
   "outputs": [
    {
     "name": "stdout",
     "output_type": "stream",
     "text": [
      "Number of rows in df1 after dropping:741\n"
     ]
    }
   ],
   "source": [
    "df1.drop_duplicates(inplace=True)\n",
    "print(f'Number of rows in df1 after dropping:{df1.shape[0]}')"
   ]
  },
  {
   "cell_type": "markdown",
   "id": "c1abf282-2ddf-4359-940b-9239a13f4ec4",
   "metadata": {},
   "source": [
    "### Type Conversion"
   ]
  },
  {
   "cell_type": "code",
   "execution_count": 139,
   "id": "8b5643dd-ef32-4463-9ef2-df98f0013b93",
   "metadata": {},
   "outputs": [
    {
     "name": "stdout",
     "output_type": "stream",
     "text": [
      "Data Types of DataFrame1\n",
      "States                        object\n",
      "Date                          object\n",
      "Frequency                     object\n",
      "Unemployment Rate            float64\n",
      "Employed                     float64\n",
      "Labour Participation Rate    float64\n",
      "Area                          object\n",
      "dtype: object \n",
      "\n",
      "Data Types of DataFrame2\n",
      "States                        object\n",
      "Date                          object\n",
      "Frequency                     object\n",
      "Unemployment Rate            float64\n",
      "Employed                       int64\n",
      "Labour Participation Rate    float64\n",
      "Region                        object\n",
      "dtype: object\n"
     ]
    }
   ],
   "source": [
    "#Befor conversion\n",
    "print('Data Types of DataFrame1')\n",
    "print(f'{df1.dtypes} \\n' )\n",
    "\n",
    "print('Data Types of DataFrame2')\n",
    "print(df2.dtypes)"
   ]
  },
  {
   "cell_type": "code",
   "execution_count": 141,
   "id": "e9312e6c-5c79-45ff-8370-e564939cf978",
   "metadata": {},
   "outputs": [
    {
     "name": "stdout",
     "output_type": "stream",
     "text": [
      "Data Types of DataFrame1\n",
      "States                             category\n",
      "Date                         datetime64[ns]\n",
      "Frequency                          category\n",
      "Unemployment Rate                   float64\n",
      "Employed                            float64\n",
      "Labour Participation Rate           float64\n",
      "Area                               category\n",
      "dtype: object \n",
      "\n",
      "Data Types of DataFrame2\n",
      "States                             category\n",
      "Date                         datetime64[ns]\n",
      "Frequency                          category\n",
      "Unemployment Rate                   float64\n",
      "Employed                              int64\n",
      "Labour Participation Rate           float64\n",
      "Region                             category\n",
      "dtype: object\n"
     ]
    }
   ],
   "source": [
    "#conver Date column to DateTime \n",
    "df1['Date'] = pd.to_datetime(df1['Date'], dayfirst=True)\n",
    "df2['Date'] = pd.to_datetime(df2['Date'], dayfirst=True)\n",
    "\n",
    "#convert object columns to type category\n",
    "df1['States']=df1['States'].astype('category')\n",
    "df1['Frequency']=df1['Frequency'].astype('category')\n",
    "df1['Area']=df1['Area'].astype('category')\n",
    "\n",
    "df2['States']=df2['States'].astype('category')\n",
    "df2['Frequency']=df2['Frequency'].astype('category')\n",
    "df2['Region']=df2['Region'].astype('category')\n",
    "\n",
    "\n",
    "print('Data Types of DataFrame1')\n",
    "print(f'{df1.dtypes} \\n' )\n",
    "\n",
    "print('Data Types of DataFrame2')\n",
    "print(df2.dtypes)"
   ]
  },
  {
   "cell_type": "markdown",
   "id": "340515e0-d70c-430a-9946-0b2db46369e7",
   "metadata": {},
   "source": [
    "## Feature Engineering\n"
   ]
  },
  {
   "cell_type": "code",
   "execution_count": 143,
   "id": "93fd7b20-2ad2-4feb-a648-bc432f49aeaf",
   "metadata": {},
   "outputs": [],
   "source": [
    "# Define the cutoff date for COVID\n",
    "cutoff_date = pd.to_datetime('2020-03-01')\n",
    "df1['COVID_Period'] = df1['Date'].apply(lambda x: 'Pre-COVID' if x < cutoff_date else 'Post-COVID')\n",
    "df2['COVID_Period'] = df2['Date'].apply(lambda x: 'Pre-COVID' if x < cutoff_date else 'Post-COVID')\n",
    "\n",
    "#Unemployment Change Percentage\n",
    "df1['Unemployment_Change'] = df1.groupby(['States'], observed=True)['Unemployment Rate'].pct_change() * 100\n",
    "df2['Unemployment_Change'] = df2.groupby(['States'], observed=True)['Unemployment Rate'].pct_change() * 100\n",
    "\n",
    "# Quarter Information\n",
    "df1['Quarter'] = df1['Date'].dt.to_period('Q')\n",
    "df2['Quarter'] = df2['Date'].dt.to_period('Q')\n",
    "\n",
    "#Employment Growth Rate\n",
    "df1['Employment_Growth'] = df1.groupby(['States'], observed=True)['Employed'].pct_change() * 100\n",
    "df2['Employment_Growth'] = df2.groupby(['States'], observed=True)['Employed'].pct_change() * 100\n",
    "\n",
    "#Regional Aggregation\n",
    "regional_summary = df2.groupby('Region', observed=True)[['Unemployment Rate', 'Labour Participation Rate']].mean().reset_index()\n",
    "\n",
    "#Seasonal Flags\n",
    "def get_season(month):\n",
    "    if month in [12, 1, 2]:\n",
    "        return 'Winter'\n",
    "    elif month in [3, 4, 5]:\n",
    "        return 'Spring'\n",
    "    elif month in [6, 7, 8]:\n",
    "        return 'Summer'\n",
    "    else:\n",
    "        return 'Autumn'\n",
    "df1['Season'] = df1['Date'].dt.month.apply(get_season)\n",
    "df2['Season'] = df2['Date'].dt.month.apply(get_season)"
   ]
  },
  {
   "cell_type": "markdown",
   "id": "b1df85d2-d578-4818-8299-d5a994ede0e1",
   "metadata": {},
   "source": [
    "#### Features Added\n",
    "##### 1. <b>COVID Period Flag:</b>Classify data into pre-COVID and post-COVID periods.\n",
    "##### 2. <b>Unemployment Change Percentage:</b>Calculate the percentage change in unemployment rates for each state compared to the previous observation.\n",
    "##### 3. <b>Quarter Information:</b>Identify the quarter for each record (Q1, Q2, Q3, Q4).\n",
    "##### 4. <b>Employment Growth Rate:</b>Calculate employment growth as a percentage change in the number of employed people.\n",
    "##### 5. <b>Regional Aggregation:</b>Aggregate data by region and calculate mean unemployment and labor participation rates for each region.\n",
    "##### 6. <b>Seasonal Flags:</b>Add a season column based on the month.\n",
    "\n",
    "\n"
   ]
  },
  {
   "cell_type": "code",
   "execution_count": 146,
   "id": "f584ebe8-05b9-459e-9404-c834dc7b9c1c",
   "metadata": {},
   "outputs": [
    {
     "data": {
      "text/html": [
       "<div>\n",
       "<style scoped>\n",
       "    .dataframe tbody tr th:only-of-type {\n",
       "        vertical-align: middle;\n",
       "    }\n",
       "\n",
       "    .dataframe tbody tr th {\n",
       "        vertical-align: top;\n",
       "    }\n",
       "\n",
       "    .dataframe thead th {\n",
       "        text-align: right;\n",
       "    }\n",
       "</style>\n",
       "<table border=\"1\" class=\"dataframe\">\n",
       "  <thead>\n",
       "    <tr style=\"text-align: right;\">\n",
       "      <th></th>\n",
       "      <th>States</th>\n",
       "      <th>Date</th>\n",
       "      <th>Frequency</th>\n",
       "      <th>Unemployment Rate</th>\n",
       "      <th>Employed</th>\n",
       "      <th>Labour Participation Rate</th>\n",
       "      <th>Area</th>\n",
       "      <th>COVID_Period</th>\n",
       "      <th>Unemployment_Change</th>\n",
       "      <th>Quarter</th>\n",
       "      <th>Employment_Growth</th>\n",
       "      <th>Season</th>\n",
       "    </tr>\n",
       "  </thead>\n",
       "  <tbody>\n",
       "    <tr>\n",
       "      <th>0</th>\n",
       "      <td>Andhra Pradesh</td>\n",
       "      <td>2019-05-31</td>\n",
       "      <td>Monthly</td>\n",
       "      <td>3.65</td>\n",
       "      <td>11999139.0</td>\n",
       "      <td>43.24</td>\n",
       "      <td>Rural</td>\n",
       "      <td>Pre-COVID</td>\n",
       "      <td>NaN</td>\n",
       "      <td>2019Q2</td>\n",
       "      <td>NaN</td>\n",
       "      <td>Spring</td>\n",
       "    </tr>\n",
       "    <tr>\n",
       "      <th>1</th>\n",
       "      <td>Andhra Pradesh</td>\n",
       "      <td>2019-06-30</td>\n",
       "      <td>Monthly</td>\n",
       "      <td>3.05</td>\n",
       "      <td>11755881.0</td>\n",
       "      <td>42.05</td>\n",
       "      <td>Rural</td>\n",
       "      <td>Pre-COVID</td>\n",
       "      <td>-16.438356</td>\n",
       "      <td>2019Q2</td>\n",
       "      <td>-2.027295</td>\n",
       "      <td>Summer</td>\n",
       "    </tr>\n",
       "    <tr>\n",
       "      <th>2</th>\n",
       "      <td>Andhra Pradesh</td>\n",
       "      <td>2019-07-31</td>\n",
       "      <td>Monthly</td>\n",
       "      <td>3.75</td>\n",
       "      <td>12086707.0</td>\n",
       "      <td>43.50</td>\n",
       "      <td>Rural</td>\n",
       "      <td>Pre-COVID</td>\n",
       "      <td>22.950820</td>\n",
       "      <td>2019Q3</td>\n",
       "      <td>2.814132</td>\n",
       "      <td>Summer</td>\n",
       "    </tr>\n",
       "    <tr>\n",
       "      <th>3</th>\n",
       "      <td>Andhra Pradesh</td>\n",
       "      <td>2019-08-31</td>\n",
       "      <td>Monthly</td>\n",
       "      <td>3.32</td>\n",
       "      <td>12285693.0</td>\n",
       "      <td>43.97</td>\n",
       "      <td>Rural</td>\n",
       "      <td>Pre-COVID</td>\n",
       "      <td>-11.466667</td>\n",
       "      <td>2019Q3</td>\n",
       "      <td>1.646321</td>\n",
       "      <td>Summer</td>\n",
       "    </tr>\n",
       "    <tr>\n",
       "      <th>4</th>\n",
       "      <td>Andhra Pradesh</td>\n",
       "      <td>2019-09-30</td>\n",
       "      <td>Monthly</td>\n",
       "      <td>5.17</td>\n",
       "      <td>12256762.0</td>\n",
       "      <td>44.68</td>\n",
       "      <td>Rural</td>\n",
       "      <td>Pre-COVID</td>\n",
       "      <td>55.722892</td>\n",
       "      <td>2019Q3</td>\n",
       "      <td>-0.235485</td>\n",
       "      <td>Autumn</td>\n",
       "    </tr>\n",
       "  </tbody>\n",
       "</table>\n",
       "</div>"
      ],
      "text/plain": [
       "           States       Date Frequency  Unemployment Rate    Employed  \\\n",
       "0  Andhra Pradesh 2019-05-31   Monthly               3.65  11999139.0   \n",
       "1  Andhra Pradesh 2019-06-30   Monthly               3.05  11755881.0   \n",
       "2  Andhra Pradesh 2019-07-31   Monthly               3.75  12086707.0   \n",
       "3  Andhra Pradesh 2019-08-31   Monthly               3.32  12285693.0   \n",
       "4  Andhra Pradesh 2019-09-30   Monthly               5.17  12256762.0   \n",
       "\n",
       "   Labour Participation Rate   Area COVID_Period  Unemployment_Change Quarter  \\\n",
       "0                      43.24  Rural    Pre-COVID                  NaN  2019Q2   \n",
       "1                      42.05  Rural    Pre-COVID           -16.438356  2019Q2   \n",
       "2                      43.50  Rural    Pre-COVID            22.950820  2019Q3   \n",
       "3                      43.97  Rural    Pre-COVID           -11.466667  2019Q3   \n",
       "4                      44.68  Rural    Pre-COVID            55.722892  2019Q3   \n",
       "\n",
       "   Employment_Growth  Season  \n",
       "0                NaN  Spring  \n",
       "1          -2.027295  Summer  \n",
       "2           2.814132  Summer  \n",
       "3           1.646321  Summer  \n",
       "4          -0.235485  Autumn  "
      ]
     },
     "execution_count": 146,
     "metadata": {},
     "output_type": "execute_result"
    }
   ],
   "source": [
    "df1.head()"
   ]
  },
  {
   "cell_type": "code",
   "execution_count": 148,
   "id": "a599db2c-f94e-40bc-930d-e8ce9fc5d573",
   "metadata": {},
   "outputs": [
    {
     "data": {
      "text/html": [
       "<div>\n",
       "<style scoped>\n",
       "    .dataframe tbody tr th:only-of-type {\n",
       "        vertical-align: middle;\n",
       "    }\n",
       "\n",
       "    .dataframe tbody tr th {\n",
       "        vertical-align: top;\n",
       "    }\n",
       "\n",
       "    .dataframe thead th {\n",
       "        text-align: right;\n",
       "    }\n",
       "</style>\n",
       "<table border=\"1\" class=\"dataframe\">\n",
       "  <thead>\n",
       "    <tr style=\"text-align: right;\">\n",
       "      <th></th>\n",
       "      <th>States</th>\n",
       "      <th>Date</th>\n",
       "      <th>Frequency</th>\n",
       "      <th>Unemployment Rate</th>\n",
       "      <th>Employed</th>\n",
       "      <th>Labour Participation Rate</th>\n",
       "      <th>Region</th>\n",
       "      <th>COVID_Period</th>\n",
       "      <th>Unemployment_Change</th>\n",
       "      <th>Quarter</th>\n",
       "      <th>Employment_Growth</th>\n",
       "      <th>Season</th>\n",
       "    </tr>\n",
       "  </thead>\n",
       "  <tbody>\n",
       "    <tr>\n",
       "      <th>0</th>\n",
       "      <td>Andhra Pradesh</td>\n",
       "      <td>2020-01-31</td>\n",
       "      <td>M</td>\n",
       "      <td>5.48</td>\n",
       "      <td>16635535</td>\n",
       "      <td>41.02</td>\n",
       "      <td>South</td>\n",
       "      <td>Pre-COVID</td>\n",
       "      <td>NaN</td>\n",
       "      <td>2020Q1</td>\n",
       "      <td>NaN</td>\n",
       "      <td>Winter</td>\n",
       "    </tr>\n",
       "    <tr>\n",
       "      <th>1</th>\n",
       "      <td>Andhra Pradesh</td>\n",
       "      <td>2020-02-29</td>\n",
       "      <td>M</td>\n",
       "      <td>5.83</td>\n",
       "      <td>16545652</td>\n",
       "      <td>40.90</td>\n",
       "      <td>South</td>\n",
       "      <td>Pre-COVID</td>\n",
       "      <td>6.386861</td>\n",
       "      <td>2020Q1</td>\n",
       "      <td>-0.540307</td>\n",
       "      <td>Winter</td>\n",
       "    </tr>\n",
       "    <tr>\n",
       "      <th>2</th>\n",
       "      <td>Andhra Pradesh</td>\n",
       "      <td>2020-03-31</td>\n",
       "      <td>M</td>\n",
       "      <td>5.79</td>\n",
       "      <td>15881197</td>\n",
       "      <td>39.18</td>\n",
       "      <td>South</td>\n",
       "      <td>Post-COVID</td>\n",
       "      <td>-0.686106</td>\n",
       "      <td>2020Q1</td>\n",
       "      <td>-4.015889</td>\n",
       "      <td>Spring</td>\n",
       "    </tr>\n",
       "    <tr>\n",
       "      <th>3</th>\n",
       "      <td>Andhra Pradesh</td>\n",
       "      <td>2020-04-30</td>\n",
       "      <td>M</td>\n",
       "      <td>20.51</td>\n",
       "      <td>11336911</td>\n",
       "      <td>33.10</td>\n",
       "      <td>South</td>\n",
       "      <td>Post-COVID</td>\n",
       "      <td>254.231434</td>\n",
       "      <td>2020Q2</td>\n",
       "      <td>-28.614254</td>\n",
       "      <td>Spring</td>\n",
       "    </tr>\n",
       "    <tr>\n",
       "      <th>4</th>\n",
       "      <td>Andhra Pradesh</td>\n",
       "      <td>2020-05-31</td>\n",
       "      <td>M</td>\n",
       "      <td>17.43</td>\n",
       "      <td>12988845</td>\n",
       "      <td>36.46</td>\n",
       "      <td>South</td>\n",
       "      <td>Post-COVID</td>\n",
       "      <td>-15.017065</td>\n",
       "      <td>2020Q2</td>\n",
       "      <td>14.571288</td>\n",
       "      <td>Spring</td>\n",
       "    </tr>\n",
       "  </tbody>\n",
       "</table>\n",
       "</div>"
      ],
      "text/plain": [
       "           States       Date Frequency  Unemployment Rate  Employed  \\\n",
       "0  Andhra Pradesh 2020-01-31         M               5.48  16635535   \n",
       "1  Andhra Pradesh 2020-02-29         M               5.83  16545652   \n",
       "2  Andhra Pradesh 2020-03-31         M               5.79  15881197   \n",
       "3  Andhra Pradesh 2020-04-30         M              20.51  11336911   \n",
       "4  Andhra Pradesh 2020-05-31         M              17.43  12988845   \n",
       "\n",
       "   Labour Participation Rate Region COVID_Period  Unemployment_Change Quarter  \\\n",
       "0                      41.02  South    Pre-COVID                  NaN  2020Q1   \n",
       "1                      40.90  South    Pre-COVID             6.386861  2020Q1   \n",
       "2                      39.18  South   Post-COVID            -0.686106  2020Q1   \n",
       "3                      33.10  South   Post-COVID           254.231434  2020Q2   \n",
       "4                      36.46  South   Post-COVID           -15.017065  2020Q2   \n",
       "\n",
       "   Employment_Growth  Season  \n",
       "0                NaN  Winter  \n",
       "1          -0.540307  Winter  \n",
       "2          -4.015889  Spring  \n",
       "3         -28.614254  Spring  \n",
       "4          14.571288  Spring  "
      ]
     },
     "execution_count": 148,
     "metadata": {},
     "output_type": "execute_result"
    }
   ],
   "source": [
    "df2.head()"
   ]
  },
  {
   "cell_type": "markdown",
   "id": "1e0b3c4b-9453-49d0-a585-d28e6d2e164f",
   "metadata": {},
   "source": [
    "# <b>Analysis and Insights</b>"
   ]
  },
  {
   "cell_type": "code",
   "execution_count": 153,
   "id": "6540c618-c3fe-45b5-8381-2fd1bf0db45a",
   "metadata": {},
   "outputs": [
    {
     "name": "stdout",
     "output_type": "stream",
     "text": [
      "  COVID_Period  Unemployment Rate\n",
      "0   Post-COVID          17.774363\n",
      "1    Pre-COVID           9.513776\n"
     ]
    }
   ],
   "source": [
    "#Average Unemployment Rate Pre- and Post-COVID\n",
    "covid_comparison = df1.groupby('COVID_Period')['Unemployment Rate'].mean().reset_index()\n",
    "print(covid_comparison)\n"
   ]
  },
  {
   "cell_type": "code",
   "execution_count": 173,
   "id": "0c814b29-ffb4-4bd2-8485-3b702d908ab1",
   "metadata": {},
   "outputs": [
    {
     "name": "stdout",
     "output_type": "stream",
     "text": [
      "Unemployment Rate in different states pre/post COVID\n",
      "\n",
      "COVID_Period      Post-COVID  Pre-COVID     Change\n",
      "States                                            \n",
      "Andhra Pradesh     13.576250   5.358950   8.217300\n",
      "Assam               6.578571   6.372632   0.205940\n",
      "Bihar              31.631250  13.833000  17.798250\n",
      "Chandigarh         14.325000  16.325000  -2.000000\n",
      "Chhattisgarh       13.075000   7.706500   5.368500\n",
      "Delhi              22.157500  14.230500   7.927000\n",
      "Goa                13.107500   8.507500   4.600000\n",
      "Gujarat            10.383750   5.176000   5.207750\n",
      "Haryana            34.652500  22.935500  11.717000\n",
      "Himachal Pradesh   17.068750  19.129000  -2.060250\n",
      "Jammu & Kashmir    12.888000  17.220000  -4.332000\n",
      "Jharkhand          36.348750  14.279500  22.069250\n",
      "Karnataka          15.280000   3.234500  12.045500\n",
      "Kerala             17.952500   6.992500  10.960000\n",
      "Madhya Pradesh     14.070000   4.741000   9.329000\n",
      "Maharashtra        13.026250   5.370000   7.656250\n",
      "Meghalaya           7.072857   4.003000   3.069857\n",
      "Odisha             11.281250   3.408500   7.872750\n",
      "Puducherry         38.955000   1.593000  37.362000\n",
      "Punjab             14.622500  10.994500   3.628000\n",
      "Rajasthan          17.311250  12.757000   4.554250\n",
      "Sikkim              9.068333   6.257273   2.811061\n",
      "Tamil Nadu         25.403750   2.836500  22.567250\n",
      "Telangana          15.442500   4.656000  10.786500\n",
      "Tripura            26.702500  29.009500  -2.307000\n",
      "Uttar Pradesh      17.382500  10.619000   6.763500\n",
      "Uttarakhand         8.815714   5.801500   3.014214\n",
      "West Bengal        12.011250   6.570000   5.441250\n"
     ]
    }
   ],
   "source": [
    "#State-Level Changes in Unemployment\n",
    "state_comparison = df1.groupby(['States', 'COVID_Period'], observed=True)['Unemployment Rate'].mean().unstack()\n",
    "state_comparison['Change'] = state_comparison['Post-COVID'] - state_comparison['Pre-COVID']\n",
    "\n",
    "print('Unemployment Rate in different states pre/post COVID')\n",
    "print()\n",
    "print(state_comparison)\n"
   ]
  },
  {
   "cell_type": "code",
   "execution_count": 163,
   "id": "884e35d1-1c3e-4efe-b2a2-0972566f1de4",
   "metadata": {},
   "outputs": [
    {
     "name": "stdout",
     "output_type": "stream",
     "text": [
      "Top 5 States with highest Unemployment Rate\n",
      "              States  Unemployment Rate\n",
      "24           Tripura          28.350357\n",
      "8            Haryana          26.283214\n",
      "11         Jharkhand          20.585000\n",
      "2              Bihar          18.918214\n",
      "9   Himachal Pradesh          18.540357\n"
     ]
    }
   ],
   "source": [
    "# Find the mean unemployment rate for each state\n",
    "state_unemployment = df1.groupby(('States'), observed=True)['Unemployment Rate'].mean().reset_index()\n",
    "\n",
    "# Sort states by unemployment rate in descending order\n",
    "state_unemployment_sorted = state_unemployment.sort_values(by='Unemployment Rate', ascending=False)\n",
    "\n",
    "# Select the top 5 states\n",
    "top_5_states = state_unemployment_sorted.head(5)\n",
    "print('Top 5 States with highest Unemployment Rate')\n",
    "print(top_5_states)\n"
   ]
  },
  {
   "cell_type": "code",
   "execution_count": 181,
   "id": "6c779e3f-eb76-496d-9bcb-846963ba6029",
   "metadata": {},
   "outputs": [
    {
     "name": "stdout",
     "output_type": "stream",
     "text": [
      "      Region  Employment_Growth\n",
      "0       East           2.983646\n",
      "1      North           0.334118\n",
      "2  Northeast           1.703069\n",
      "3      South           4.062679\n",
      "4       West           1.094511\n"
     ]
    }
   ],
   "source": [
    "#Employment Growth by Region\n",
    "employment_growth = df2.groupby(['Region'],observed=True)['Employment_Growth'].mean().reset_index()\n",
    "print(employment_growth)\n"
   ]
  },
  {
   "cell_type": "code",
   "execution_count": 185,
   "id": "1e0175f6-a2cb-41ff-a5da-a23d97e0358d",
   "metadata": {},
   "outputs": [
    {
     "data": {
      "image/png": "[encoded data removed]",
      "text/plain": [
       "<Figure size 640x480 with 1 Axes>"
      ]
     },
     "metadata": {},
     "output_type": "display_data"
    }
   ],
   "source": [
    "#Pre- vs Post-COVID Unemployment Rates\n",
    "sns.barplot(data=covid_comparison, x='COVID_Period', y='Unemployment Rate', color='blue')\n",
    "plt.title('Average Unemployment Rate: Pre- vs Post-COVID')\n",
    "plt.show()\n"
   ]
  },
  {
   "cell_type": "code",
   "execution_count": 187,
   "id": "4619250f-c9bc-4f6b-aa91-882981c90897",
   "metadata": {},
   "outputs": [
    {
     "data": {
      "image/png": "[encoded data removed]",
      "text/plain": [
       "<Figure size 1200x600 with 1 Axes>"
      ]
     },
     "metadata": {},
     "output_type": "display_data"
    }
   ],
   "source": [
    "#State-Level Unemployment Changes\n",
    "state_comparison['Change'].sort_values().plot(kind='bar', figsize=(12, 6))\n",
    "plt.title('State-Level Change in Unemployment Rate (Post-COVID vs Pre-COVID)')\n",
    "plt.ylabel('Change in Unemployment Rate')\n",
    "plt.show()\n"
   ]
  },
  {
   "cell_type": "code",
   "execution_count": 195,
   "id": "fb8f5227-bbb9-480b-9baa-4ba9645b4ad6",
   "metadata": {},
   "outputs": [
    {
     "data": {
      "image/png": "[encoded data removed]",
      "text/plain": [
       "<Figure size 640x480 with 1 Axes>"
      ]
     },
     "metadata": {},
     "output_type": "display_data"
    }
   ],
   "source": [
    "#Employment Growth by Region\n",
    "sns.barplot(data=employment_growth, x='Region', y='Employment_Growth',hue='Region', palette='plasma', legend=False)\n",
    "plt.title('Average Employment Growth by Region')\n",
    "plt.show()\n"
   ]
  },
  {
   "cell_type": "code",
   "execution_count": 211,
   "id": "f23b28c0-b92d-4125-9b41-45abd6e0a7dc",
   "metadata": {},
   "outputs": [
    {
     "data": {
      "image/png": "[encoded data removed]",
      "text/plain": [
       "<Figure size 640x480 with 1 Axes>"
      ]
     },
     "metadata": {},
     "output_type": "display_data"
    }
   ],
   "source": [
    "#Seasonal Analysis of Unemployment Rate\n",
    "sns.boxplot(data=df1, x='Season', y='Unemployment Rate', hue='Season', palette='magma', legend=False)\n",
    "plt.title('Seasonal Variation in Unemployment Rate')\n",
    "plt.show()\n"
   ]
  },
  {
   "cell_type": "code",
   "execution_count": null,
   "id": "8b952ac4-4dfd-4de8-91d7-951c6965d79f",
   "metadata": {},
   "outputs": [],
   "source": []
  }
 ],
 "metadata": {
  "kernelspec": {
   "display_name": "Python 3 (ipykernel)",
   "language": "python",
   "name": "python3"
  },
  "language_info": {
   "codemirror_mode": {
    "name": "ipython",
    "version": 3
   },
   "file_extension": ".py",
   "mimetype": "text/x-python",
   "name": "python",
   "nbconvert_exporter": "python",
   "pygments_lexer": "ipython3",
   "version": "3.11.9"
  }
 },
 "nbformat": 4,
 "nbformat_minor": 5
}
